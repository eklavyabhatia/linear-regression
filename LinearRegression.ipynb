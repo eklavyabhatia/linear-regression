{
 "cells": [
  {
   "cell_type": "code",
   "execution_count": 1,
   "metadata": {},
   "outputs": [],
   "source": [
    "import numpy as np\n",
    "import pandas as pd\n",
    "import matplotlib.pyplot as plt"
   ]
  },
  {
   "cell_type": "markdown",
   "metadata": {},
   "source": [
    "# Visualizing the data"
   ]
  },
  {
   "cell_type": "code",
   "execution_count": 2,
   "metadata": {},
   "outputs": [],
   "source": [
    "df_x_train = pd.read_csv('Linear_X_Train.csv')\n",
    "df_y_train = pd.read_csv('Linear_Y_Train.csv')"
   ]
  },
  {
   "cell_type": "code",
   "execution_count": 3,
   "metadata": {},
   "outputs": [
    {
     "data": {
      "text/html": [
       "<div>\n",
       "<style scoped>\n",
       "    .dataframe tbody tr th:only-of-type {\n",
       "        vertical-align: middle;\n",
       "    }\n",
       "\n",
       "    .dataframe tbody tr th {\n",
       "        vertical-align: top;\n",
       "    }\n",
       "\n",
       "    .dataframe thead th {\n",
       "        text-align: right;\n",
       "    }\n",
       "</style>\n",
       "<table border=\"1\" class=\"dataframe\">\n",
       "  <thead>\n",
       "    <tr style=\"text-align: right;\">\n",
       "      <th></th>\n",
       "      <th>x</th>\n",
       "    </tr>\n",
       "  </thead>\n",
       "  <tbody>\n",
       "    <tr>\n",
       "      <th>0</th>\n",
       "      <td>-0.289307</td>\n",
       "    </tr>\n",
       "    <tr>\n",
       "      <th>1</th>\n",
       "      <td>-0.588810</td>\n",
       "    </tr>\n",
       "    <tr>\n",
       "      <th>2</th>\n",
       "      <td>1.027507</td>\n",
       "    </tr>\n",
       "    <tr>\n",
       "      <th>3</th>\n",
       "      <td>-0.259013</td>\n",
       "    </tr>\n",
       "    <tr>\n",
       "      <th>4</th>\n",
       "      <td>0.782043</td>\n",
       "    </tr>\n",
       "  </tbody>\n",
       "</table>\n",
       "</div>"
      ],
      "text/plain": [
       "          x\n",
       "0 -0.289307\n",
       "1 -0.588810\n",
       "2  1.027507\n",
       "3 -0.259013\n",
       "4  0.782043"
      ]
     },
     "execution_count": 3,
     "metadata": {},
     "output_type": "execute_result"
    }
   ],
   "source": [
    "df_x_train.head()"
   ]
  },
  {
   "cell_type": "code",
   "execution_count": 4,
   "metadata": {},
   "outputs": [
    {
     "data": {
      "text/html": [
       "<div>\n",
       "<style scoped>\n",
       "    .dataframe tbody tr th:only-of-type {\n",
       "        vertical-align: middle;\n",
       "    }\n",
       "\n",
       "    .dataframe tbody tr th {\n",
       "        vertical-align: top;\n",
       "    }\n",
       "\n",
       "    .dataframe thead th {\n",
       "        text-align: right;\n",
       "    }\n",
       "</style>\n",
       "<table border=\"1\" class=\"dataframe\">\n",
       "  <thead>\n",
       "    <tr style=\"text-align: right;\">\n",
       "      <th></th>\n",
       "      <th>y</th>\n",
       "    </tr>\n",
       "  </thead>\n",
       "  <tbody>\n",
       "    <tr>\n",
       "      <th>0</th>\n",
       "      <td>-0.091101</td>\n",
       "    </tr>\n",
       "    <tr>\n",
       "      <th>1</th>\n",
       "      <td>-53.467721</td>\n",
       "    </tr>\n",
       "    <tr>\n",
       "      <th>2</th>\n",
       "      <td>75.457009</td>\n",
       "    </tr>\n",
       "    <tr>\n",
       "      <th>3</th>\n",
       "      <td>-12.025286</td>\n",
       "    </tr>\n",
       "    <tr>\n",
       "      <th>4</th>\n",
       "      <td>57.414187</td>\n",
       "    </tr>\n",
       "  </tbody>\n",
       "</table>\n",
       "</div>"
      ],
      "text/plain": [
       "           y\n",
       "0  -0.091101\n",
       "1 -53.467721\n",
       "2  75.457009\n",
       "3 -12.025286\n",
       "4  57.414187"
      ]
     },
     "execution_count": 4,
     "metadata": {},
     "output_type": "execute_result"
    }
   ],
   "source": [
    "df_y_train.head()"
   ]
  },
  {
   "cell_type": "code",
   "execution_count": 5,
   "metadata": {},
   "outputs": [
    {
     "name": "stdout",
     "output_type": "stream",
     "text": [
      "(3750, 1)\n",
      "(3750, 1)\n"
     ]
    }
   ],
   "source": [
    "X = df_x_train.values\n",
    "Y = df_y_train.values\n",
    "\n",
    "print(X.shape)\n",
    "print(Y.shape)"
   ]
  },
  {
   "cell_type": "markdown",
   "metadata": {},
   "source": [
    "# Normalizing the data"
   ]
  },
  {
   "cell_type": "code",
   "execution_count": 6,
   "metadata": {},
   "outputs": [
    {
     "name": "stdout",
     "output_type": "stream",
     "text": [
      "-0.03779466168006855\n",
      "0.9920801322508517\n"
     ]
    }
   ],
   "source": [
    "mean = X.mean()\n",
    "std = X.std()\n",
    "print(mean)\n",
    "print(std)"
   ]
  },
  {
   "cell_type": "code",
   "execution_count": 7,
   "metadata": {},
   "outputs": [],
   "source": [
    "X = (X-mean)/std"
   ]
  },
  {
   "cell_type": "code",
   "execution_count": 8,
   "metadata": {},
   "outputs": [
    {
     "name": "stdout",
     "output_type": "stream",
     "text": [
      "3.789561257387201e-18\n",
      "1.0\n"
     ]
    }
   ],
   "source": [
    "new_mean = X.mean()\n",
    "new_std = X.std()\n",
    "print(new_mean)\n",
    "print(new_std)"
   ]
  },
  {
   "cell_type": "markdown",
   "metadata": {},
   "source": [
    "# Linear Regression"
   ]
  },
  {
   "cell_type": "code",
   "execution_count": 42,
   "metadata": {},
   "outputs": [],
   "source": [
    "def hypothesis(x,theta):\n",
    "    y_ = theta[0] + theta[1]*x\n",
    "    return y_\n",
    "\n",
    "def gradient(X,Y,theta):\n",
    "    m = X.shape[0]\n",
    "    grad = np.zeros((2,))\n",
    "    for i in range(m):\n",
    "        x = X[i]\n",
    "        y_ = hypothesis(x,theta)\n",
    "        y = Y[i]\n",
    "        grad[0] += (y_ - y)\n",
    "        grad[1] += (y_ - y)*x\n",
    "    return grad/m\n",
    "\n",
    "def error(X,Y,theta):\n",
    "    m = X.shape[0]\n",
    "    total_error = 0.0\n",
    "    for i in range(m):\n",
    "        y_ = hypothesis(X[i],theta)\n",
    "        total_error += (y_ - Y[i])**2\n",
    "        \n",
    "    return (total_error/m)\n",
    "    \n",
    "\n",
    "def gradientDescent(X,Y,max_steps=100,learning_rate =0.1):\n",
    "    \n",
    "    theta = np.zeros((2,))\n",
    "    error_list = []\n",
    "    theta_list = []\n",
    "    \n",
    "   \n",
    "    for i in range(max_steps):\n",
    "        \n",
    "        grad = gradient(X,Y,theta)\n",
    "        e = error(X,Y,theta)[0]\n",
    "        \n",
    "        theta[0] = theta[0] - learning_rate*grad[0]\n",
    "        theta[1] = theta[1] - learning_rate*grad[1]\n",
    "           \n",
    "        theta_list.append((theta[0],theta[1]))\n",
    "        error_list.append(e)\n",
    "        \n",
    "    return theta,error_list,theta_list"
   ]
  },
  {
   "cell_type": "code",
   "execution_count": 43,
   "metadata": {},
   "outputs": [],
   "source": [
    "theta,error_list,theta_list=gradientDescent(X,Y)\n"
   ]
  },
  {
   "cell_type": "code",
   "execution_count": 44,
   "metadata": {},
   "outputs": [
    {
     "data": {
      "text/plain": [
       "array([ 0.6838508 , 79.90361453])"
      ]
     },
     "execution_count": 44,
     "metadata": {},
     "output_type": "execute_result"
    }
   ],
   "source": [
    "theta"
   ]
  },
  {
   "cell_type": "code",
   "execution_count": 45,
   "metadata": {},
   "outputs": [
    {
     "data": {
      "text/plain": [
       "[6576.35005246196,\n",
       " 5363.125102574931,\n",
       " 4380.412893166487,\n",
       " 3584.4160035456366,\n",
       " 2939.658522952752,\n",
       " 2417.404963672508,\n",
       " 1994.3795806555281,\n",
       " 1651.7290204117544,\n",
       " 1374.1820666143055,\n",
       " 1149.3690340383696,\n",
       " 967.2704776518652,\n",
       " 819.770646978796,\n",
       " 700.2957841336078,\n",
       " 603.5211452290067,\n",
       " 525.1336877162773,\n",
       " 461.6398471309694,\n",
       " 410.20983625687,\n",
       " 368.55152744884856,\n",
       " 334.80829731435097,\n",
       " 307.47628090540843,\n",
       " 285.33734761416457,\n",
       " 267.4048116482566,\n",
       " 252.87945751587242,\n",
       " 241.11392066864,\n",
       " 231.5838358223823,\n",
       " 223.86446709691373,\n",
       " 217.61177842928484,\n",
       " 212.54710060850397,\n",
       " 208.4447115736724,\n",
       " 205.1217764554589,\n",
       " 202.43019900970543,\n",
       " 200.25002127864602,\n",
       " 198.48407731648712,\n",
       " 197.05366270713802,\n",
       " 195.8950268735658,\n",
       " 194.95653184837263,\n",
       " 194.19635087796493,\n",
       " 193.58060429193594,\n",
       " 193.08184955725244,\n",
       " 192.67785822215873,\n",
       " 192.35062524073192,\n",
       " 192.08556652577707,\n",
       " 191.87086896666273,\n",
       " 191.69696394378104,\n",
       " 191.55610087524585,\n",
       " 191.4420017897342,\n",
       " 191.34958153046787,\n",
       " 191.2747211204641,\n",
       " 191.21408418835912,\n",
       " 191.16496827335493,\n",
       " 191.12518438220116,\n",
       " 191.09295943036707,\n",
       " 191.06685721938175,\n",
       " 191.04571442848274,\n",
       " 191.02858876785533,\n",
       " 191.01471698274722,\n",
       " 191.00348083680868,\n",
       " 190.99437955859895,\n",
       " 190.98700752324964,\n",
       " 190.9810361746153,\n",
       " 190.97619938222232,\n",
       " 190.9722815803843,\n",
       " 190.96910816089553,\n",
       " 190.9665376911093,\n",
       " 190.96445561058232,\n",
       " 190.9627691253558,\n",
       " 190.9614030723223,\n",
       " 190.9602965693647,\n",
       " 190.95940030196982,\n",
       " 190.95867432537915,\n",
       " 190.9580862843408,\n",
       " 190.95760997109994,\n",
       " 190.95722415737512,\n",
       " 190.95691164825783,\n",
       " 190.95665851587307,\n",
       " 190.9564534786412,\n",
       " 190.95628739848314,\n",
       " 190.95615287355545,\n",
       " 190.95604390836414,\n",
       " 190.95595564655886,\n",
       " 190.95588415449666,\n",
       " 190.95582624592575,\n",
       " 190.9557793399843,\n",
       " 190.95574134617098,\n",
       " 190.95571057118218,\n",
       " 190.95568564344168,\n",
       " 190.95566545197224,\n",
       " 190.95564909688107,\n",
       " 190.9556358492579,\n",
       " 190.95562511868232,\n",
       " 190.95561642691717,\n",
       " 190.95560938658627,\n",
       " 190.9556036839193,\n",
       " 190.95559906475864,\n",
       " 190.95559532323833,\n",
       " 190.95559229260724,\n",
       " 190.95558983779603,\n",
       " 190.95558784939806,\n",
       " 190.95558623879643,\n",
       " 190.95558493420947]"
      ]
     },
     "execution_count": 45,
     "metadata": {},
     "output_type": "execute_result"
    }
   ],
   "source": [
    "error_list"
   ]
  },
  {
   "cell_type": "code",
   "execution_count": 47,
   "metadata": {},
   "outputs": [
    {
     "data": {
      "image/png": "[encoded data removed]",
      "text/plain": [
       "<Figure size 432x288 with 1 Axes>"
      ]
     },
     "metadata": {
      "needs_background": "light"
     },
     "output_type": "display_data"
    }
   ],
   "source": [
    "y_ = hypothesis(X,theta)\n",
    "plt.scatter(X,Y)\n",
    "plt.plot(X,y_,color='orange',label='Predictions')\n",
    "plt.legend()\n",
    "plt.show()"
   ]
  },
  {
   "cell_type": "markdown",
   "metadata": {},
   "source": [
    "# Testing the data"
   ]
  },
  {
   "cell_type": "code",
   "execution_count": 49,
   "metadata": {},
   "outputs": [
    {
     "data": {
      "text/html": [
       "<div>\n",
       "<style scoped>\n",
       "    .dataframe tbody tr th:only-of-type {\n",
       "        vertical-align: middle;\n",
       "    }\n",
       "\n",
       "    .dataframe tbody tr th {\n",
       "        vertical-align: top;\n",
       "    }\n",
       "\n",
       "    .dataframe thead th {\n",
       "        text-align: right;\n",
       "    }\n",
       "</style>\n",
       "<table border=\"1\" class=\"dataframe\">\n",
       "  <thead>\n",
       "    <tr style=\"text-align: right;\">\n",
       "      <th></th>\n",
       "      <th>x</th>\n",
       "    </tr>\n",
       "  </thead>\n",
       "  <tbody>\n",
       "    <tr>\n",
       "      <th>0</th>\n",
       "      <td>-1.877944</td>\n",
       "    </tr>\n",
       "    <tr>\n",
       "      <th>1</th>\n",
       "      <td>-0.869032</td>\n",
       "    </tr>\n",
       "    <tr>\n",
       "      <th>2</th>\n",
       "      <td>-2.530182</td>\n",
       "    </tr>\n",
       "    <tr>\n",
       "      <th>3</th>\n",
       "      <td>2.760205</td>\n",
       "    </tr>\n",
       "    <tr>\n",
       "      <th>4</th>\n",
       "      <td>0.591000</td>\n",
       "    </tr>\n",
       "  </tbody>\n",
       "</table>\n",
       "</div>"
      ],
      "text/plain": [
       "          x\n",
       "0 -1.877944\n",
       "1 -0.869032\n",
       "2 -2.530182\n",
       "3  2.760205\n",
       "4  0.591000"
      ]
     },
     "execution_count": 49,
     "metadata": {},
     "output_type": "execute_result"
    }
   ],
   "source": [
    "df_x_test = pd.read_csv('Linear_X_Test.csv')\n",
    "df_x_test.head()"
   ]
  },
  {
   "cell_type": "code",
   "execution_count": 50,
   "metadata": {},
   "outputs": [
    {
     "name": "stdout",
     "output_type": "stream",
     "text": [
      "(1250, 1)\n"
     ]
    }
   ],
   "source": [
    "X_Test = df_x_test.values\n",
    "print(X_Test.shape)"
   ]
  },
  {
   "cell_type": "code",
   "execution_count": 51,
   "metadata": {},
   "outputs": [
    {
     "name": "stdout",
     "output_type": "stream",
     "text": [
      "3.789561257387201e-18\n",
      "1.0\n"
     ]
    }
   ],
   "source": [
    "mean = X.mean()\n",
    "std = X.std()\n",
    "print(mean)\n",
    "print(std)\n"
   ]
  },
  {
   "cell_type": "code",
   "execution_count": 53,
   "metadata": {},
   "outputs": [],
   "source": [
    "tx = X_Test.shape[0]\n",
    "\n",
    "with open('file.csv','w') as f:\n",
    "    heading = 'y'+'\\n'\n",
    "    f.write(heading)\n",
    "    \n",
    "    for i in range(tx):\n",
    "        yp = theta[0] + theta[1]*X_Test[i]\n",
    "        row = str(yp)[1:-1] + '\\n'\n",
    "        f.write(row)\n",
    "    "
   ]
  },
  {
   "cell_type": "code",
   "execution_count": null,
   "metadata": {},
   "outputs": [],
   "source": []
  }
 ],
 "metadata": {
  "kernelspec": {
   "display_name": "Python 3",
   "language": "python",
   "name": "python3"
  },
  "language_info": {
   "codemirror_mode": {
    "name": "ipython",
    "version": 3
   },
   "file_extension": ".py",
   "mimetype": "text/x-python",
   "name": "python",
   "nbconvert_exporter": "python",
   "pygments_lexer": "ipython3",
   "version": "3.7.6"
  }
 },
 "nbformat": 4,
 "nbformat_minor": 4
}
